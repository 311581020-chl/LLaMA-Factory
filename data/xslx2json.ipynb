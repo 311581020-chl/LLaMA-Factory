{
 "cells": [
  {
   "cell_type": "markdown",
   "metadata": {},
   "source": [
    "# XSLX to JSON"
   ]
  },
  {
   "cell_type": "code",
   "execution_count": 87,
   "metadata": {},
   "outputs": [],
   "source": [
    "import pandas\n",
    "import json\n",
    "\n",
    "# filename = '繁中翻英法律1.2N'\n",
    "# filename = 'GCP+PA-年報(0110-2)_TO TR'\n",
    "filename = \"TM-SUZUKI RM-2020\"\n",
    "# filename = 'TM-SUZUKI OM-總TM(2020)'\n",
    "# filename = 'FR第3.0模型--新+舊訓練+測試+驗證集_final'\n",
    "\n",
    "# Read excel document\n",
    "excel_data_df = pandas.read_excel(f'ptsgi/xlsx/{filename}.xlsx')"
   ]
  },
  {
   "cell_type": "code",
   "execution_count": 88,
   "metadata": {},
   "outputs": [
    {
     "data": {
      "text/html": [
       "<div>\n",
       "<style scoped>\n",
       "    .dataframe tbody tr th:only-of-type {\n",
       "        vertical-align: middle;\n",
       "    }\n",
       "\n",
       "    .dataframe tbody tr th {\n",
       "        vertical-align: top;\n",
       "    }\n",
       "\n",
       "    .dataframe thead th {\n",
       "        text-align: right;\n",
       "    }\n",
       "</style>\n",
       "<table border=\"1\" class=\"dataframe\">\n",
       "  <thead>\n",
       "    <tr style=\"text-align: right;\">\n",
       "      <th></th>\n",
       "      <th>&gt;&gt;L&lt;&lt;English (United States)</th>\n",
       "      <th>&gt;&gt;L&lt;&lt;Chinese (Traditional, Taiwan)</th>\n",
       "    </tr>\n",
       "  </thead>\n",
       "  <tbody>\n",
       "    <tr>\n",
       "      <th>0</th>\n",
       "      <td>SX4 (AKK416/AKK416D)</td>\n",
       "      <td>SX4 (AKK416/AKK416D)</td>\n",
       "    </tr>\n",
       "    <tr>\n",
       "      <th>1</th>\n",
       "      <td>TSMJYA22S00100001 ~ 999999</td>\n",
       "      <td>TSMJYA22S00100001 ~ 999999</td>\n",
       "    </tr>\n",
       "    <tr>\n",
       "      <th>2</th>\n",
       "      <td>TSMYA22S#EM100001 ~ 999999</td>\n",
       "      <td>TSMYA22S#EM100001 ~ 999999</td>\n",
       "    </tr>\n",
       "    <tr>\n",
       "      <th>3</th>\n",
       "      <td>DTC (        )</td>\n",
       "      <td>DTC (        )</td>\n",
       "    </tr>\n",
       "    <tr>\n",
       "      <th>4</th>\n",
       "      <td>P073E:</td>\n",
       "      <td>P073E：</td>\n",
       "    </tr>\n",
       "  </tbody>\n",
       "</table>\n",
       "</div>"
      ],
      "text/plain": [
       "  >>L<<English (United States) >>L<<Chinese (Traditional, Taiwan)\n",
       "0         SX4 (AKK416/AKK416D)               SX4 (AKK416/AKK416D)\n",
       "1   TSMJYA22S00100001 ~ 999999         TSMJYA22S00100001 ~ 999999\n",
       "2   TSMYA22S#EM100001 ~ 999999         TSMYA22S#EM100001 ~ 999999\n",
       "3               DTC (        )                     DTC (        )\n",
       "4                       P073E:                             P073E："
      ]
     },
     "execution_count": 88,
     "metadata": {},
     "output_type": "execute_result"
    }
   ],
   "source": [
    "excel_data_df.head()"
   ]
  },
  {
   "cell_type": "code",
   "execution_count": 89,
   "metadata": {},
   "outputs": [],
   "source": [
    "# df = excel_data_df.rename({'Source': 'input', 'Target': 'output'}, axis=1)\n",
    "# df = excel_data_df.rename({'>>L<<English (United States)': 'output', '>>L<<Chinese (Traditional, Taiwan)': 'input'}, axis=1)\n",
    "df = excel_data_df.rename({'>>L<<Chinese (Traditional, Taiwan)': 'input'}, axis=1)"
   ]
  },
  {
   "cell_type": "code",
   "execution_count": 90,
   "metadata": {},
   "outputs": [],
   "source": [
    "# df['instruction'] = '''Please translate the following Chinese text into English.\n",
    "# Please only generate the translated text, without any extra content.\n",
    "# '''\n",
    "df['instruction'] = '''There are 7 types of documents, Accounting and Finance, Law, Electronics, Machinery, Games, Literature, History and Philosophy, and Marketing and Business Management.\n",
    "Which one do you think the following Chinese texts belong to?\n",
    "Please only generate the answer text, without any extra content.\n",
    "'''\n",
    "\n",
    "df['output'] = 'Machinery'\n",
    "# If there\\'s any tag started with \"<\" and end with \">\", like <:t> or <a>, in the original texts, do not modify or remove them and just keep them there.'"
   ]
  },
  {
   "cell_type": "code",
   "execution_count": 91,
   "metadata": {},
   "outputs": [
    {
     "data": {
      "text/plain": [
       "['>>L<<English (United States)', 'input', 'instruction', 'output']"
      ]
     },
     "execution_count": 91,
     "metadata": {},
     "output_type": "execute_result"
    }
   ],
   "source": [
    "cols = df.columns.tolist()\n",
    "cols"
   ]
  },
  {
   "cell_type": "code",
   "execution_count": 92,
   "metadata": {},
   "outputs": [],
   "source": [
    "# cols = [cols[0], cols[3], cols[2]]\n",
    "cols = cols[1:4]\n",
    "# cols = [cols[0], cols[6], cols[5]]\n",
    "df = df[cols]"
   ]
  },
  {
   "cell_type": "code",
   "execution_count": 93,
   "metadata": {},
   "outputs": [
    {
     "data": {
      "text/plain": [
       "['input', 'instruction', 'output']"
      ]
     },
     "execution_count": 93,
     "metadata": {},
     "output_type": "execute_result"
    }
   ],
   "source": [
    "cols"
   ]
  },
  {
   "cell_type": "code",
   "execution_count": 94,
   "metadata": {},
   "outputs": [
    {
     "data": {
      "text/plain": [
       "392364"
      ]
     },
     "execution_count": 94,
     "metadata": {},
     "output_type": "execute_result"
    }
   ],
   "source": [
    "len(df)"
   ]
  },
  {
   "cell_type": "code",
   "execution_count": 95,
   "metadata": {},
   "outputs": [],
   "source": [
    "from sklearn.model_selection import train_test_split\n",
    "\n",
    "train, test = train_test_split(df, test_size=0.1)"
   ]
  },
  {
   "cell_type": "code",
   "execution_count": 96,
   "metadata": {},
   "outputs": [],
   "source": [
    "# Convert excel to string \n",
    "# (define orientation of document in this case from up to down)\n",
    "# thisisjson = df.to_json(orient='records')\n",
    "trainjson = train.to_json(orient='records')\n",
    "testjson = test.to_json(orient='records')"
   ]
  },
  {
   "cell_type": "code",
   "execution_count": 97,
   "metadata": {},
   "outputs": [],
   "source": [
    "# Make the string into a list to be able to input in to a JSON-file\n",
    "# thisisjson_dict = json.loads(thisisjson)\n",
    "train_dict = json.loads(trainjson)\n",
    "test_dict = json.loads(testjson)"
   ]
  },
  {
   "cell_type": "code",
   "execution_count": 98,
   "metadata": {},
   "outputs": [],
   "source": [
    "# Define file to write to and 'w' for write option -> json.dump() \n",
    "# defining the list to write from and file to write to\n",
    "# with open(f'{filename}(wo instruction).json', 'w', encoding='utf8') as json_file:\n",
    "# with open(f'{filename}.json', 'w', encoding='utf8') as json_file:\n",
    "# with open(f'ptsgi/json/{filename}.json', 'w', encoding='utf8') as json_file:\n",
    "#     json.dump(thisisjson_dict, json_file, ensure_ascii=False)\n",
    "    \n",
    "# with open(f'ptsgi/json/{filename}_train_90.json', 'w', encoding='utf8') as json_file:\n",
    "#     json.dump(train_dict, json_file, ensure_ascii=False)\n",
    "    \n",
    "# with open(f'ptsgi/json/{filename}_test_10.json', 'w', encoding='utf8') as json_file:\n",
    "#     json.dump(test_dict, json_file, ensure_ascii=False)\n",
    "    \n",
    "with open(f'ptsgi/json/{filename}_cat_train_90.json', 'w', encoding='utf8') as json_file:\n",
    "    json.dump(train_dict, json_file, ensure_ascii=False)\n",
    "    \n",
    "with open(f'ptsgi/json/{filename}_cat_test_10.json', 'w', encoding='utf8') as json_file:\n",
    "    json.dump(test_dict, json_file, ensure_ascii=False)"
   ]
  },
  {
   "cell_type": "markdown",
   "metadata": {},
   "source": [
    "## JSON to XLSX"
   ]
  },
  {
   "cell_type": "code",
   "execution_count": 42,
   "metadata": {},
   "outputs": [],
   "source": [
    "import pandas as pd\n",
    "filename = \"llama3_FT_客戶\"\n",
    "# filename_noft = \"llama3_NoFT_年報\"\n",
    "df_ft = pd.read_json(f\"{filename}.json\", encoding='utf8').rename({'input': '>>L<<Chinese (Traditional, Taiwan)', 'output': '>>L<<English (United States)'}, axis=1)\n",
    "# df_noft = pd.read_json(f\"{filename_noft}.json\", encoding='utf8').rename({'input': '>>L<<Chinese (Traditional, Taiwan)', 'output': '>>L<<English (United States)'}, axis=1)"
   ]
  },
  {
   "cell_type": "code",
   "execution_count": 43,
   "metadata": {},
   "outputs": [],
   "source": [
    "df_ft.to_excel(f\"{filename}.xlsx\", index=False)"
   ]
  },
  {
   "cell_type": "code",
   "execution_count": 34,
   "metadata": {},
   "outputs": [],
   "source": [
    "# extracted_col = df_ft[\">>L<<English (United States)\"]\n",
    "# extracted_col"
   ]
  },
  {
   "cell_type": "code",
   "execution_count": 33,
   "metadata": {},
   "outputs": [],
   "source": [
    "# df = pd.concat([df_noft, extracted_col.rename(\"FT >>L<<English (United States)\")], axis=1)\n",
    "# df"
   ]
  },
  {
   "cell_type": "code",
   "execution_count": 31,
   "metadata": {},
   "outputs": [],
   "source": [
    "# df.to_excel(f\"llama3_{filename[-2:]}.xlsx\", index=False)"
   ]
  },
  {
   "cell_type": "markdown",
   "metadata": {},
   "source": [
    "## JSON to JSON"
   ]
  },
  {
   "cell_type": "code",
   "execution_count": null,
   "metadata": {},
   "outputs": [],
   "source": [
    "import pandas as pd\n",
    "import json\n",
    "filename = \"TM-SUZUKI OM-總TM(2020)_train\"\n",
    "\n",
    "df = pd.read_json(f\"{filename}.json\", encoding='utf8')\n",
    "df_json = df.to_json(orient='records')\n",
    "df_json_dict = json.loads(df_json)\n",
    "\n",
    "with open(f'ptsgi/json/{filename}_cleanup.json', 'w', encoding='utf8') as json_file:\n",
    "    json.dump(df_json_dict, json_file, ensure_ascii=False)"
   ]
  },
  {
   "cell_type": "markdown",
   "metadata": {},
   "source": [
    "## TXT to JSON"
   ]
  },
  {
   "cell_type": "code",
   "execution_count": 82,
   "metadata": {},
   "outputs": [],
   "source": [
    "import pandas as pd\n",
    "filename_en = \"TM-SUZUKI RM-2020_en\"\n",
    "filename_zh = \"TM-SUZUKI RM-2020_zh\"\n",
    "filename = \"TM-SUZUKI RM-2020\"\n",
    "\n",
    "data_en = open(f'ptsgi/txt/{filename_en}.txt').read().splitlines()\n",
    "data_zh = open(f'ptsgi/txt/{filename_zh}.txt').read().splitlines()"
   ]
  },
  {
   "cell_type": "code",
   "execution_count": 83,
   "metadata": {},
   "outputs": [],
   "source": [
    "df = pd.DataFrame({\">>L<<English (United States)\": data_en, \">>L<<Chinese (Traditional, Taiwan)\": data_zh})"
   ]
  },
  {
   "cell_type": "code",
   "execution_count": 3,
   "metadata": {},
   "outputs": [],
   "source": [
    "df = df.rename({'>>L<<English (United States)': 'output', '>>L<<Chinese (Traditional, Taiwan)': 'input'}, axis=1)"
   ]
  },
  {
   "cell_type": "code",
   "execution_count": 4,
   "metadata": {},
   "outputs": [],
   "source": [
    "df['instruction'] = '''Please translate the following Chinese text into English.\n",
    "Please only generate the translated text, without any extra content.\n",
    "'''"
   ]
  },
  {
   "cell_type": "code",
   "execution_count": 84,
   "metadata": {},
   "outputs": [
    {
     "data": {
      "text/html": [
       "<div>\n",
       "<style scoped>\n",
       "    .dataframe tbody tr th:only-of-type {\n",
       "        vertical-align: middle;\n",
       "    }\n",
       "\n",
       "    .dataframe tbody tr th {\n",
       "        vertical-align: top;\n",
       "    }\n",
       "\n",
       "    .dataframe thead th {\n",
       "        text-align: right;\n",
       "    }\n",
       "</style>\n",
       "<table border=\"1\" class=\"dataframe\">\n",
       "  <thead>\n",
       "    <tr style=\"text-align: right;\">\n",
       "      <th></th>\n",
       "      <th>&gt;&gt;L&lt;&lt;English (United States)</th>\n",
       "      <th>&gt;&gt;L&lt;&lt;Chinese (Traditional, Taiwan)</th>\n",
       "    </tr>\n",
       "  </thead>\n",
       "  <tbody>\n",
       "    <tr>\n",
       "      <th>0</th>\n",
       "      <td>SX4 (AKK416/AKK416D)</td>\n",
       "      <td>SX4 (AKK416/AKK416D)</td>\n",
       "    </tr>\n",
       "    <tr>\n",
       "      <th>1</th>\n",
       "      <td>TSMJYA22S00100001 ~ 999999</td>\n",
       "      <td>TSMJYA22S00100001 ~ 999999</td>\n",
       "    </tr>\n",
       "    <tr>\n",
       "      <th>2</th>\n",
       "      <td>TSMYA22S#EM100001 ~ 999999</td>\n",
       "      <td>TSMYA22S#EM100001 ~ 999999</td>\n",
       "    </tr>\n",
       "    <tr>\n",
       "      <th>3</th>\n",
       "      <td>DTC (        )</td>\n",
       "      <td>DTC (        )</td>\n",
       "    </tr>\n",
       "    <tr>\n",
       "      <th>4</th>\n",
       "      <td>P073E:</td>\n",
       "      <td>P073E：</td>\n",
       "    </tr>\n",
       "    <tr>\n",
       "      <th>...</th>\n",
       "      <td>...</td>\n",
       "      <td>...</td>\n",
       "    </tr>\n",
       "    <tr>\n",
       "      <th>392359</th>\n",
       "      <td>Perform auto-down and auto-up operating power ...</td>\n",
       "      <td>執行電動窗主開關的自動下降和自動上升操作，確認車窗玻璃能升 / 降到底。</td>\n",
       "    </tr>\n",
       "    <tr>\n",
       "      <th>392360</th>\n",
       "      <td>NOTE</td>\n",
       "      <td>備註</td>\n",
       "    </tr>\n",
       "    <tr>\n",
       "      <th>392361</th>\n",
       "      <td>5.0 N·m (0.51 kgf-m, 4.0 lbf-ft)</td>\n",
       "      <td>5.0 Nm (0.51 kgf-m, 4.0 lbf-ft)</td>\n",
       "    </tr>\n",
       "    <tr>\n",
       "      <th>392362</th>\n",
       "      <td>If the fuel gauge indicates 7 segments or more...</td>\n",
       "      <td>若燃油表指示 7 格以上，在開始油箱拆卸之前，請使用特殊工具 (65700-93J14：</td>\n",
       "    </tr>\n",
       "    <tr>\n",
       "      <th>392363</th>\n",
       "      <td>The number is punched on the cowl upper panel ...</td>\n",
       "      <td>此號碼打印在引擎室內的前罩板上板。</td>\n",
       "    </tr>\n",
       "  </tbody>\n",
       "</table>\n",
       "<p>392364 rows × 2 columns</p>\n",
       "</div>"
      ],
      "text/plain": [
       "                             >>L<<English (United States)  \\\n",
       "0                                    SX4 (AKK416/AKK416D)   \n",
       "1                              TSMJYA22S00100001 ~ 999999   \n",
       "2                              TSMYA22S#EM100001 ~ 999999   \n",
       "3                                          DTC (        )   \n",
       "4                                                  P073E:   \n",
       "...                                                   ...   \n",
       "392359  Perform auto-down and auto-up operating power ...   \n",
       "392360                                               NOTE   \n",
       "392361                   5.0 N·m (0.51 kgf-m, 4.0 lbf-ft)   \n",
       "392362  If the fuel gauge indicates 7 segments or more...   \n",
       "392363  The number is punched on the cowl upper panel ...   \n",
       "\n",
       "                  >>L<<Chinese (Traditional, Taiwan)  \n",
       "0                               SX4 (AKK416/AKK416D)  \n",
       "1                         TSMJYA22S00100001 ~ 999999  \n",
       "2                         TSMYA22S#EM100001 ~ 999999  \n",
       "3                                     DTC (        )  \n",
       "4                                             P073E：  \n",
       "...                                              ...  \n",
       "392359          執行電動窗主開關的自動下降和自動上升操作，確認車窗玻璃能升 / 降到底。  \n",
       "392360                                            備註  \n",
       "392361               5.0 Nm (0.51 kgf-m, 4.0 lbf-ft)  \n",
       "392362  若燃油表指示 7 格以上，在開始油箱拆卸之前，請使用特殊工具 (65700-93J14：  \n",
       "392363                             此號碼打印在引擎室內的前罩板上板。  \n",
       "\n",
       "[392364 rows x 2 columns]"
      ]
     },
     "execution_count": 84,
     "metadata": {},
     "output_type": "execute_result"
    }
   ],
   "source": [
    "df"
   ]
  },
  {
   "cell_type": "code",
   "execution_count": 6,
   "metadata": {},
   "outputs": [],
   "source": [
    "import json\n",
    "thisisjson = df.to_json(orient='records')\n",
    "thisisjson_dict = json.loads(thisisjson)"
   ]
  },
  {
   "cell_type": "code",
   "execution_count": 7,
   "metadata": {},
   "outputs": [],
   "source": [
    "with open(f'ptsgi/json/{filename}.json', 'w', encoding='utf8') as json_file:\n",
    "    json.dump(thisisjson_dict, json_file, ensure_ascii=False)"
   ]
  },
  {
   "cell_type": "markdown",
   "metadata": {},
   "source": [
    "## TXT to XLSX"
   ]
  },
  {
   "cell_type": "code",
   "execution_count": 86,
   "metadata": {},
   "outputs": [],
   "source": [
    "df.to_excel(f\"ptsgi/xlsx/{filename}.xlsx\", index=False)\n"
   ]
  },
  {
   "cell_type": "code",
   "execution_count": null,
   "metadata": {},
   "outputs": [],
   "source": []
  }
 ],
 "metadata": {
  "kernelspec": {
   "display_name": "llama_factory",
   "language": "python",
   "name": "python3"
  },
  "language_info": {
   "codemirror_mode": {
    "name": "ipython",
    "version": 3
   },
   "file_extension": ".py",
   "mimetype": "text/x-python",
   "name": "python",
   "nbconvert_exporter": "python",
   "pygments_lexer": "ipython3",
   "version": "3.10.14"
  }
 },
 "nbformat": 4,
 "nbformat_minor": 2
}
